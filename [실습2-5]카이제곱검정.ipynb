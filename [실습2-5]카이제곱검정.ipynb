{
 "cells": [
  {
   "cell_type": "markdown",
   "id": "a28e1227-3be7-44eb-9441-6e9d44fe16d0",
   "metadata": {},
   "source": [
    "# 카이제곱 교차검증\n",
    "- 두 범주형 변수가 서로 독립적인지 검정"
   ]
  },
  {
   "cell_type": "code",
   "execution_count": 7,
   "id": "e13e4f04-87d2-4d0b-a6bd-8ebeea3f31a5",
   "metadata": {},
   "outputs": [],
   "source": [
    "import pandas as pd"
   ]
  },
  {
   "cell_type": "markdown",
   "id": "ff523a9a-b0c8-4a7d-a028-e6fc006ef37b",
   "metadata": {},
   "source": [
    "## 데이터 로딩"
   ]
  },
  {
   "cell_type": "code",
   "execution_count": 32,
   "id": "6747011f-5590-4c94-8e5a-6213fcc0c4ca",
   "metadata": {},
   "outputs": [
    {
     "data": {
      "text/html": [
       "<div>\n",
       "<style scoped>\n",
       "    .dataframe tbody tr th:only-of-type {\n",
       "        vertical-align: middle;\n",
       "    }\n",
       "\n",
       "    .dataframe tbody tr th {\n",
       "        vertical-align: top;\n",
       "    }\n",
       "\n",
       "    .dataframe thead th {\n",
       "        text-align: right;\n",
       "    }\n",
       "</style>\n",
       "<table border=\"1\" class=\"dataframe\">\n",
       "  <thead>\n",
       "    <tr style=\"text-align: right;\">\n",
       "      <th></th>\n",
       "      <th>만족도</th>\n",
       "      <th>성별</th>\n",
       "    </tr>\n",
       "  </thead>\n",
       "  <tbody>\n",
       "    <tr>\n",
       "      <th>0</th>\n",
       "      <td>불만족</td>\n",
       "      <td>남성</td>\n",
       "    </tr>\n",
       "    <tr>\n",
       "      <th>1</th>\n",
       "      <td>보통</td>\n",
       "      <td>여성</td>\n",
       "    </tr>\n",
       "    <tr>\n",
       "      <th>2</th>\n",
       "      <td>불만족</td>\n",
       "      <td>여성</td>\n",
       "    </tr>\n",
       "    <tr>\n",
       "      <th>3</th>\n",
       "      <td>보통</td>\n",
       "      <td>남성</td>\n",
       "    </tr>\n",
       "    <tr>\n",
       "      <th>4</th>\n",
       "      <td>만족</td>\n",
       "      <td>여성</td>\n",
       "    </tr>\n",
       "  </tbody>\n",
       "</table>\n",
       "</div>"
      ],
      "text/plain": [
       "   만족도  성별\n",
       "0  불만족  남성\n",
       "1   보통  여성\n",
       "2  불만족  여성\n",
       "3   보통  남성\n",
       "4   만족  여성"
      ]
     },
     "execution_count": 32,
     "metadata": {},
     "output_type": "execute_result"
    }
   ],
   "source": [
    "df = pd.read_csv(\"datas2/성별에따른만족도.csv\", encoding='euc-kr')\n",
    "df.head()"
   ]
  },
  {
   "cell_type": "markdown",
   "id": "394f6c76-b805-4aa4-84d7-309ca9eedaa2",
   "metadata": {},
   "source": [
    "## 실제값 교차 테이블 생성"
   ]
  },
  {
   "cell_type": "code",
   "execution_count": 33,
   "id": "c4eb1feb-2e4b-48c8-8d75-6f748ea22726",
   "metadata": {},
   "outputs": [],
   "source": [
    "cross_table = pd.crosstab(df['성별'], df['만족도'])"
   ]
  },
  {
   "cell_type": "code",
   "execution_count": 34,
   "id": "d2b9128a-f2ba-49ba-af29-bfa0890063f3",
   "metadata": {},
   "outputs": [
    {
     "data": {
      "text/html": [
       "<div>\n",
       "<style scoped>\n",
       "    .dataframe tbody tr th:only-of-type {\n",
       "        vertical-align: middle;\n",
       "    }\n",
       "\n",
       "    .dataframe tbody tr th {\n",
       "        vertical-align: top;\n",
       "    }\n",
       "\n",
       "    .dataframe thead th {\n",
       "        text-align: right;\n",
       "    }\n",
       "</style>\n",
       "<table border=\"1\" class=\"dataframe\">\n",
       "  <thead>\n",
       "    <tr style=\"text-align: right;\">\n",
       "      <th>만족도</th>\n",
       "      <th>만족</th>\n",
       "      <th>보통</th>\n",
       "      <th>불만족</th>\n",
       "    </tr>\n",
       "    <tr>\n",
       "      <th>성별</th>\n",
       "      <th></th>\n",
       "      <th></th>\n",
       "      <th></th>\n",
       "    </tr>\n",
       "  </thead>\n",
       "  <tbody>\n",
       "    <tr>\n",
       "      <th>남성</th>\n",
       "      <td>50</td>\n",
       "      <td>40</td>\n",
       "      <td>10</td>\n",
       "    </tr>\n",
       "    <tr>\n",
       "      <th>여성</th>\n",
       "      <td>40</td>\n",
       "      <td>30</td>\n",
       "      <td>30</td>\n",
       "    </tr>\n",
       "  </tbody>\n",
       "</table>\n",
       "</div>"
      ],
      "text/plain": [
       "만족도  만족  보통  불만족\n",
       "성별              \n",
       "남성   50  40   10\n",
       "여성   40  30   30"
      ]
     },
     "execution_count": 34,
     "metadata": {},
     "output_type": "execute_result"
    }
   ],
   "source": [
    "cross_table"
   ]
  },
  {
   "cell_type": "markdown",
   "id": "e28d6273-fa1f-4a38-9fca-a4d621ea376a",
   "metadata": {},
   "source": [
    "## obs 데이터 추출"
   ]
  },
  {
   "cell_type": "code",
   "execution_count": 19,
   "id": "bb38ff28-fe23-4e3b-8001-4cc3e2394edd",
   "metadata": {},
   "outputs": [
    {
     "data": {
      "text/plain": [
       "array([[50, 40, 10],\n",
       "       [40, 30, 30]])"
      ]
     },
     "execution_count": 19,
     "metadata": {},
     "output_type": "execute_result"
    }
   ],
   "source": [
    "# 크로스테이블의 값만 추출함 -> numpy 객체\n",
    "# observed\n",
    "obs = cross_table.values\n",
    "obs"
   ]
  },
  {
   "cell_type": "markdown",
   "id": "7d448c65-9751-4120-b275-f04f4f14b4b2",
   "metadata": {},
   "source": [
    "## 카이제곱 검정"
   ]
  },
  {
   "cell_type": "code",
   "execution_count": 20,
   "id": "6488ef38-f1aa-47e7-8813-5e3b791fa804",
   "metadata": {},
   "outputs": [],
   "source": [
    "from scipy import stats as st"
   ]
  },
  {
   "cell_type": "code",
   "execution_count": 22,
   "id": "3abeb49b-5968-4699-a63c-108d7e62701c",
   "metadata": {},
   "outputs": [],
   "source": [
    "# 방법1\n",
    "statistic, pvalue, dof, expected_freq  = st.chi2_contingency(obs)"
   ]
  },
  {
   "cell_type": "code",
   "execution_count": 28,
   "id": "4f8945d4-92de-4849-870b-8c396c1bded1",
   "metadata": {},
   "outputs": [
    {
     "data": {
      "text/plain": [
       "array([[45., 35., 20.],\n",
       "       [45., 35., 20.]])"
      ]
     },
     "execution_count": 28,
     "metadata": {},
     "output_type": "execute_result"
    }
   ],
   "source": [
    "# 방법2\n",
    "results = st.chi2_contingency(obs)\n",
    "expected_freq = results.expected_freq"
   ]
  },
  {
   "cell_type": "markdown",
   "id": "f2a24c7c-06b1-4e82-b021-44b085943fb1",
   "metadata": {},
   "source": [
    "## 기대값 확인\n",
    "- 데이터 프레임으로 만들기"
   ]
  },
  {
   "cell_type": "code",
   "execution_count": 35,
   "id": "a40e3ce8-2807-48f0-99f2-98eeb5bac621",
   "metadata": {},
   "outputs": [
    {
     "data": {
      "text/html": [
       "<div>\n",
       "<style scoped>\n",
       "    .dataframe tbody tr th:only-of-type {\n",
       "        vertical-align: middle;\n",
       "    }\n",
       "\n",
       "    .dataframe tbody tr th {\n",
       "        vertical-align: top;\n",
       "    }\n",
       "\n",
       "    .dataframe thead th {\n",
       "        text-align: right;\n",
       "    }\n",
       "</style>\n",
       "<table border=\"1\" class=\"dataframe\">\n",
       "  <thead>\n",
       "    <tr style=\"text-align: right;\">\n",
       "      <th>만족도</th>\n",
       "      <th>만족</th>\n",
       "      <th>보통</th>\n",
       "      <th>불만족</th>\n",
       "    </tr>\n",
       "    <tr>\n",
       "      <th>성별</th>\n",
       "      <th></th>\n",
       "      <th></th>\n",
       "      <th></th>\n",
       "    </tr>\n",
       "  </thead>\n",
       "  <tbody>\n",
       "    <tr>\n",
       "      <th>남성</th>\n",
       "      <td>50</td>\n",
       "      <td>40</td>\n",
       "      <td>10</td>\n",
       "    </tr>\n",
       "    <tr>\n",
       "      <th>여성</th>\n",
       "      <td>40</td>\n",
       "      <td>30</td>\n",
       "      <td>30</td>\n",
       "    </tr>\n",
       "  </tbody>\n",
       "</table>\n",
       "</div>"
      ],
      "text/plain": [
       "만족도  만족  보통  불만족\n",
       "성별              \n",
       "남성   50  40   10\n",
       "여성   40  30   30"
      ]
     },
     "execution_count": 35,
     "metadata": {},
     "output_type": "execute_result"
    }
   ],
   "source": [
    "cross_table.head()"
   ]
  },
  {
   "cell_type": "code",
   "execution_count": 38,
   "id": "f916df6b-669b-42ec-907d-5a7c1e5bf417",
   "metadata": {},
   "outputs": [
    {
     "data": {
      "text/plain": [
       "array([[45., 35., 20.],\n",
       "       [45., 35., 20.]])"
      ]
     },
     "execution_count": 38,
     "metadata": {},
     "output_type": "execute_result"
    }
   ],
   "source": [
    "expected_freq"
   ]
  },
  {
   "cell_type": "code",
   "execution_count": 36,
   "id": "fe730e33-6597-431b-9dbf-52c223e0ea85",
   "metadata": {},
   "outputs": [
    {
     "data": {
      "text/html": [
       "<div>\n",
       "<style scoped>\n",
       "    .dataframe tbody tr th:only-of-type {\n",
       "        vertical-align: middle;\n",
       "    }\n",
       "\n",
       "    .dataframe tbody tr th {\n",
       "        vertical-align: top;\n",
       "    }\n",
       "\n",
       "    .dataframe thead th {\n",
       "        text-align: right;\n",
       "    }\n",
       "</style>\n",
       "<table border=\"1\" class=\"dataframe\">\n",
       "  <thead>\n",
       "    <tr style=\"text-align: right;\">\n",
       "      <th>만족도</th>\n",
       "      <th>만족</th>\n",
       "      <th>보통</th>\n",
       "      <th>불만족</th>\n",
       "    </tr>\n",
       "    <tr>\n",
       "      <th>성별</th>\n",
       "      <th></th>\n",
       "      <th></th>\n",
       "      <th></th>\n",
       "    </tr>\n",
       "  </thead>\n",
       "  <tbody>\n",
       "    <tr>\n",
       "      <th>남성</th>\n",
       "      <td>45.0</td>\n",
       "      <td>35.0</td>\n",
       "      <td>20.0</td>\n",
       "    </tr>\n",
       "    <tr>\n",
       "      <th>여성</th>\n",
       "      <td>45.0</td>\n",
       "      <td>35.0</td>\n",
       "      <td>20.0</td>\n",
       "    </tr>\n",
       "  </tbody>\n",
       "</table>\n",
       "</div>"
      ],
      "text/plain": [
       "만족도    만족    보통   불만족\n",
       "성별                   \n",
       "남성   45.0  35.0  20.0\n",
       "여성   45.0  35.0  20.0"
      ]
     },
     "execution_count": 36,
     "metadata": {},
     "output_type": "execute_result"
    }
   ],
   "source": [
    "expected_df = pd.DataFrame(expected_freq, index=cross_table.index, columns=cross_table.columns)\n",
    "expected_df"
   ]
  },
  {
   "cell_type": "code",
   "execution_count": null,
   "id": "648b27ea-7f3a-4fbd-ac92-5a6ac8df9097",
   "metadata": {},
   "outputs": [],
   "source": []
  }
 ],
 "metadata": {
  "kernelspec": {
   "display_name": "eda_env",
   "language": "python",
   "name": "eda_env"
  },
  "language_info": {
   "codemirror_mode": {
    "name": "ipython",
    "version": 3
   },
   "file_extension": ".py",
   "mimetype": "text/x-python",
   "name": "python",
   "nbconvert_exporter": "python",
   "pygments_lexer": "ipython3",
   "version": "3.10.18"
  }
 },
 "nbformat": 4,
 "nbformat_minor": 5
}
