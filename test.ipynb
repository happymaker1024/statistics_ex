{
 "cells": [
  {
   "cell_type": "markdown",
   "id": "618e4434-bd62-4ec5-9394-7531af33fbe7",
   "metadata": {},
   "source": [
    "# 주피터 노트북 테스트"
   ]
  },
  {
   "cell_type": "code",
   "execution_count": 1,
   "id": "f5f6713a-ca69-4337-af00-ad9b415d05a9",
   "metadata": {},
   "outputs": [
    {
     "name": "stdout",
     "output_type": "stream",
     "text": [
      "헬로\n"
     ]
    }
   ],
   "source": [
    "print(\"헬로\")"
   ]
  },
  {
   "cell_type": "code",
   "execution_count": null,
   "id": "e9a8ff7c-b32e-4898-ac1c-c9a3e4e61aa8",
   "metadata": {},
   "outputs": [],
   "source": []
  }
 ],
 "metadata": {
  "kernelspec": {
   "display_name": "eda_env",
   "language": "python",
   "name": "python3"
  },
  "language_info": {
   "codemirror_mode": {
    "name": "ipython",
    "version": 3
   },
   "file_extension": ".py",
   "mimetype": "text/x-python",
   "name": "python",
   "nbconvert_exporter": "python",
   "pygments_lexer": "ipython3",
   "version": "3.10.18"
  }
 },
 "nbformat": 4,
 "nbformat_minor": 5
}
