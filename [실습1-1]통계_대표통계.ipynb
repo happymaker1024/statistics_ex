{
 "cells": [
  {
   "cell_type": "markdown",
   "id": "4ace65f2-d97c-4569-be76-e9a6417c2349",
   "metadata": {},
   "source": [
    "# 대표 통계량"
   ]
  },
  {
   "cell_type": "code",
   "execution_count": 3,
   "id": "b6719237-3a25-4da2-b144-595aed2fd409",
   "metadata": {},
   "outputs": [],
   "source": [
    "import numpy as np\n",
    "from scipy import stats \n",
    "import pandas as pd"
   ]
  },
  {
   "cell_type": "markdown",
   "id": "ca3157f0-6f2f-46e3-ad18-3be3763e1107",
   "metadata": {},
   "source": [
    "## 산술평균 계산"
   ]
  },
  {
   "cell_type": "code",
   "execution_count": 13,
   "id": "ec1913b3-d0de-452d-9ce0-c4589977230e",
   "metadata": {},
   "outputs": [
    {
     "name": "stdout",
     "output_type": "stream",
     "text": [
      "64.0\n",
      "64.0\n"
     ]
    }
   ],
   "source": [
    "# 성적 평균 구하기\n",
    "x = [70, 60, 80, 60, 50]\n",
    "# sum(x)/len(x)\n",
    "print(np.sum(x)/len(x))\n",
    "# print(np.array(x).mean())\n",
    "print(pd.Series(x).mean())"
   ]
  },
  {
   "cell_type": "markdown",
   "id": "07ac0607-5960-4dcf-bee8-a7b21a0c73f3",
   "metadata": {},
   "source": [
    "## 조화평균 구하기"
   ]
  },
  {
   "cell_type": "code",
   "execution_count": 16,
   "id": "c472758d-07e3-4dbf-9caf-11a08deb3ee0",
   "metadata": {},
   "outputs": [
    {
     "name": "stdout",
     "output_type": "stream",
     "text": [
      "40.0\n",
      "40.0\n"
     ]
    }
   ],
   "source": [
    "# 상황: 두 생산 라인이 동일한 수의 제품(작업량)을 생산하지만, \n",
    "# 각 라인의 처리 속도가 다를 때 평균 처리 속도를 계산하기\n",
    "\n",
    "# 라인 A: 60개/시간, 라인 B: 30개/시간  \n",
    "# → 동일 작업량(120개 제품 생산) 처리 시 평균 처리속도\n",
    "\n",
    "x = np.array([60, 30])\n",
    "print(len(x)/(1/60 + 1/30))\n",
    "print(stats.hmean(x))"
   ]
  },
  {
   "cell_type": "markdown",
   "id": "58ae2614-9389-4036-b287-9e950f324b55",
   "metadata": {},
   "source": [
    "\n",
    "## 절사평균 계산"
   ]
  },
  {
   "cell_type": "code",
   "execution_count": null,
   "id": "3c2e9b14-d63b-456d-aece-0b1178ac4ebf",
   "metadata": {},
   "outputs": [],
   "source": []
  },
  {
   "cell_type": "markdown",
   "id": "ee09bda7-4fa6-455c-b5f2-8572cb93687c",
   "metadata": {},
   "source": [
    "## 최빈값 계산"
   ]
  },
  {
   "cell_type": "code",
   "execution_count": 19,
   "id": "7d389389-a1c1-464c-b988-72705b1e8ee0",
   "metadata": {},
   "outputs": [
    {
     "data": {
      "text/plain": [
       "1000"
      ]
     },
     "execution_count": 19,
     "metadata": {},
     "output_type": "execute_result"
    }
   ],
   "source": [
    "x = np.random.choice(['A', 'B', 'C'], 1000)\n",
    "x[:5]\n",
    "len(x)"
   ]
  },
  {
   "cell_type": "code",
   "execution_count": 20,
   "id": "4593332b-e2ab-4be1-9de8-52e1d5aa3a28",
   "metadata": {},
   "outputs": [
    {
     "data": {
      "text/plain": [
       "array(['A', 'B', 'C'], dtype='<U1')"
      ]
     },
     "execution_count": 20,
     "metadata": {},
     "output_type": "execute_result"
    }
   ],
   "source": [
    "np.unique(x)"
   ]
  },
  {
   "cell_type": "code",
   "execution_count": 21,
   "id": "721c8e0e-08af-4cd6-abb4-b91c4a0bd4c4",
   "metadata": {},
   "outputs": [
    {
     "data": {
      "text/plain": [
       "B    355\n",
       "C    343\n",
       "A    302\n",
       "Name: count, dtype: int64"
      ]
     },
     "execution_count": 21,
     "metadata": {},
     "output_type": "execute_result"
    }
   ],
   "source": [
    "pd.Series(x).value_counts()"
   ]
  },
  {
   "cell_type": "code",
   "execution_count": 25,
   "id": "9cf086d8-5edc-4569-9547-98c2f35d7f01",
   "metadata": {},
   "outputs": [
    {
     "data": {
      "text/plain": [
       "'A'"
      ]
     },
     "execution_count": 25,
     "metadata": {},
     "output_type": "execute_result"
    }
   ],
   "source": [
    "pd.Series(x).value_counts().index[2]"
   ]
  },
  {
   "cell_type": "code",
   "execution_count": 36,
   "id": "8e5c2df0-903a-49cc-9d41-51946e897cc6",
   "metadata": {},
   "outputs": [
    {
     "name": "stdout",
     "output_type": "stream",
     "text": [
      "최빈값 : B, 최빈갯수 : 355\n"
     ]
    }
   ],
   "source": [
    "# python collections 사용\n",
    "from collections import Counter\n",
    "# print(dict(Counter(x)))\n",
    "counter = Counter(x)\n",
    "mode_value, mode_cnt = counter.most_common(1)[0]\n",
    "print(f\"최빈값 : {mode_value}, 최빈갯수 : {mode_cnt}\")"
   ]
  },
  {
   "cell_type": "markdown",
   "id": "febe8414-7214-462d-a96f-100568a69310",
   "metadata": {},
   "source": [
    "## 데이터의 대표값"
   ]
  },
  {
   "cell_type": "code",
   "execution_count": 37,
   "id": "d6504a98-67f4-400a-b1cf-4ee66aef9d08",
   "metadata": {},
   "outputs": [],
   "source": [
    "# 평균, 중앙값, 최빈값 구하기\n"
   ]
  },
  {
   "cell_type": "code",
   "execution_count": 100,
   "id": "c5e3c76c-4449-4ea0-8255-e326dc42859b",
   "metadata": {},
   "outputs": [],
   "source": [
    "# 데이터 생성\n",
    "np.random.seed(2024)\n",
    "data = np.random.randint(0,5,10)"
   ]
  },
  {
   "cell_type": "code",
   "execution_count": 101,
   "id": "fc3691a4-f081-4cf2-a51a-f20763c31e54",
   "metadata": {},
   "outputs": [
    {
     "data": {
      "text/plain": [
       "array([0, 2, 0, 0, 3, 4, 1, 1, 4, 3], dtype=int32)"
      ]
     },
     "execution_count": 101,
     "metadata": {},
     "output_type": "execute_result"
    }
   ],
   "source": [
    "data"
   ]
  },
  {
   "cell_type": "code",
   "execution_count": 102,
   "id": "920b58d9-9c8c-47e5-9dea-3c1271fa5bb7",
   "metadata": {},
   "outputs": [
    {
     "data": {
      "text/plain": [
       "array([0, 0, 0, 1, 1, 2, 3, 3, 4, 4], dtype=int32)"
      ]
     },
     "execution_count": 102,
     "metadata": {},
     "output_type": "execute_result"
    }
   ],
   "source": [
    "data.sort()\n",
    "data"
   ]
  },
  {
   "cell_type": "code",
   "execution_count": 103,
   "id": "dba256d6-dfa4-49b5-b255-391fcb5129a6",
   "metadata": {},
   "outputs": [
    {
     "data": {
      "text/plain": [
       "np.float64(1.5)"
      ]
     },
     "execution_count": 103,
     "metadata": {},
     "output_type": "execute_result"
    }
   ],
   "source": [
    "mean_val = np.mean(data)\n",
    "median_val = np.median(data)\n",
    "median_val"
   ]
  },
  {
   "cell_type": "code",
   "execution_count": 105,
   "id": "8b9a3847-a749-4439-b629-48fdbecc36a5",
   "metadata": {},
   "outputs": [
    {
     "data": {
      "text/plain": [
       "ModeResult(mode=np.int32(0), count=np.int64(3))"
      ]
     },
     "execution_count": 105,
     "metadata": {},
     "output_type": "execute_result"
    }
   ],
   "source": [
    "mode_val = stats.mode(data)\n",
    "mode_val"
   ]
  },
  {
   "cell_type": "code",
   "execution_count": 108,
   "id": "1f63594c-b365-400d-bd0d-6797f1c6a061",
   "metadata": {},
   "outputs": [
    {
     "name": "stdout",
     "output_type": "stream",
     "text": [
      "최빈값 : 0, 최빈 갯수3\n"
     ]
    }
   ],
   "source": [
    "print(f\"최빈값 : {mode_val.mode}, 최빈 갯수{mode_val.count}\")"
   ]
  }
 ],
 "metadata": {
  "kernelspec": {
   "display_name": "eda_env",
   "language": "python",
   "name": "eda_env"
  },
  "language_info": {
   "codemirror_mode": {
    "name": "ipython",
    "version": 3
   },
   "file_extension": ".py",
   "mimetype": "text/x-python",
   "name": "python",
   "nbconvert_exporter": "python",
   "pygments_lexer": "ipython3",
   "version": "3.10.18"
  }
 },
 "nbformat": 4,
 "nbformat_minor": 5
}
