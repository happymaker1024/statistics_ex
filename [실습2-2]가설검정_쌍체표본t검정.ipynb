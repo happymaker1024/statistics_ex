{
 "cells": [
  {
   "cell_type": "markdown",
   "id": "349c33e7-4b11-498d-a9e5-4e34538495ce",
   "metadata": {},
   "source": [
    "# 쌍체표본 t-검정\n",
    "- t-test for paired(related) samples"
   ]
  },
  {
   "cell_type": "code",
   "execution_count": 13,
   "id": "bfa9501a-9f5c-4014-a6bb-e6af2b5c74b7",
   "metadata": {},
   "outputs": [],
   "source": [
    "import pandas as pd"
   ]
  },
  {
   "cell_type": "markdown",
   "id": "797467b0-4c58-4390-a6ad-5da00f82a7a7",
   "metadata": {},
   "source": [
    "## 데이터 로딩"
   ]
  },
  {
   "cell_type": "code",
   "execution_count": 14,
   "id": "aa6f3b3f-83e7-4592-9f0d-71423f5ee2e8",
   "metadata": {},
   "outputs": [
    {
     "data": {
      "text/html": [
       "<div>\n",
       "<style scoped>\n",
       "    .dataframe tbody tr th:only-of-type {\n",
       "        vertical-align: middle;\n",
       "    }\n",
       "\n",
       "    .dataframe tbody tr th {\n",
       "        vertical-align: top;\n",
       "    }\n",
       "\n",
       "    .dataframe thead th {\n",
       "        text-align: right;\n",
       "    }\n",
       "</style>\n",
       "<table border=\"1\" class=\"dataframe\">\n",
       "  <thead>\n",
       "    <tr style=\"text-align: right;\">\n",
       "      <th></th>\n",
       "      <th>다이어트전(kg)</th>\n",
       "      <th>다이어트후(kg)</th>\n",
       "    </tr>\n",
       "  </thead>\n",
       "  <tbody>\n",
       "    <tr>\n",
       "      <th>0</th>\n",
       "      <td>87.41</td>\n",
       "      <td>88.30</td>\n",
       "    </tr>\n",
       "    <tr>\n",
       "      <th>1</th>\n",
       "      <td>81.05</td>\n",
       "      <td>76.21</td>\n",
       "    </tr>\n",
       "    <tr>\n",
       "      <th>2</th>\n",
       "      <td>60.72</td>\n",
       "      <td>53.34</td>\n",
       "    </tr>\n",
       "    <tr>\n",
       "      <th>3</th>\n",
       "      <td>81.02</td>\n",
       "      <td>78.21</td>\n",
       "    </tr>\n",
       "    <tr>\n",
       "      <th>4</th>\n",
       "      <td>75.75</td>\n",
       "      <td>76.74</td>\n",
       "    </tr>\n",
       "  </tbody>\n",
       "</table>\n",
       "</div>"
      ],
      "text/plain": [
       "   다이어트전(kg)  다이어트후(kg)\n",
       "0      87.41      88.30\n",
       "1      81.05      76.21\n",
       "2      60.72      53.34\n",
       "3      81.02      78.21\n",
       "4      75.75      76.74"
      ]
     },
     "execution_count": 14,
     "metadata": {},
     "output_type": "execute_result"
    }
   ],
   "source": [
    "data_file = \"다이어트약_효과검증.csv\"\n",
    "# 데이터 인코딩 방식 - 기본 : utf-8\n",
    "df = pd.read_csv(f\"datas2/{data_file}\")  \n",
    "df.head()"
   ]
  },
  {
   "cell_type": "code",
   "execution_count": 8,
   "id": "342b0ad3-fa1d-45dc-919d-005d251e83fb",
   "metadata": {},
   "outputs": [
    {
     "data": {
      "text/plain": [
       "Index(['다이어트전(kg)', '다이어트후(kg)'], dtype='object')"
      ]
     },
     "execution_count": 8,
     "metadata": {},
     "output_type": "execute_result"
    }
   ],
   "source": [
    "df.columns"
   ]
  },
  {
   "cell_type": "markdown",
   "id": "56fd0726-a631-4488-b5b1-82bf99171d2b",
   "metadata": {},
   "source": [
    "## 데이터 전처리"
   ]
  },
  {
   "cell_type": "code",
   "execution_count": 11,
   "id": "31bd75a4-114c-4a79-919b-c85f7ae070e1",
   "metadata": {},
   "outputs": [
    {
     "data": {
      "text/plain": [
       "0    87.41\n",
       "1    81.05\n",
       "2    60.72\n",
       "3    81.02\n",
       "4    75.75\n",
       "Name: 다이어트전(kg), dtype: float64"
      ]
     },
     "execution_count": 11,
     "metadata": {},
     "output_type": "execute_result"
    }
   ],
   "source": [
    "# 다이어트전(kg)\n",
    "before = df['다이어트전(kg)']\n",
    "before.head()"
   ]
  },
  {
   "cell_type": "code",
   "execution_count": 12,
   "id": "699b109c-5af2-4f54-a77a-3b605ff6adfa",
   "metadata": {},
   "outputs": [
    {
     "data": {
      "text/plain": [
       "0    88.30\n",
       "1    76.21\n",
       "2    53.34\n",
       "3    78.21\n",
       "4    76.74\n",
       "Name: 다이어트후(kg), dtype: float64"
      ]
     },
     "execution_count": 12,
     "metadata": {},
     "output_type": "execute_result"
    }
   ],
   "source": [
    "# 다이어트후(kg)\n",
    "after = df['다이어트후(kg)']\n",
    "after.head()"
   ]
  },
  {
   "cell_type": "code",
   "execution_count": null,
   "id": "81fc13c8-7588-415c-a186-b0ef25e7b2b4",
   "metadata": {},
   "outputs": [],
   "source": []
  },
  {
   "cell_type": "markdown",
   "id": "9b4adea5-9070-4415-a50c-14c24d82e3dc",
   "metadata": {},
   "source": [
    "## 정규성 검정\n",
    "- before와 after의 차이(d)가 정규분포를 따르는지 판단하기"
   ]
  },
  {
   "cell_type": "code",
   "execution_count": 16,
   "id": "219f49c6-bdca-4572-9c19-fa82fddaa71a",
   "metadata": {},
   "outputs": [],
   "source": [
    "from scipy import stats as st"
   ]
  },
  {
   "cell_type": "code",
   "execution_count": 17,
   "id": "e7af2c2d-6da5-45f3-9355-0d94626b30e5",
   "metadata": {},
   "outputs": [
    {
     "data": {
      "text/plain": [
       "ShapiroResult(statistic=np.float64(0.9724073061486513), pvalue=np.float64(0.2892093416018284))"
      ]
     },
     "execution_count": 17,
     "metadata": {},
     "output_type": "execute_result"
    }
   ],
   "source": [
    "# 유의 사항: 실험 후 값 - 실험 전 값\n",
    "st.shapiro(after-before)"
   ]
  },
  {
   "cell_type": "markdown",
   "id": "dfecd70c-87a7-4aeb-9619-34d36e55b362",
   "metadata": {},
   "source": [
    "[해석]  \n",
    "- p-value > 0.05 이므로, 정규분포를 따른다는 것을 알 수 있음."
   ]
  },
  {
   "cell_type": "markdown",
   "id": "3508ae65-aeeb-41f4-b519-4df1897c63d5",
   "metadata": {},
   "source": [
    "## 쌍체 표본 t검정 수행하기"
   ]
  },
  {
   "cell_type": "code",
   "execution_count": 19,
   "id": "915f195a-e185-4c04-ad46-b9624aa30d2a",
   "metadata": {},
   "outputs": [
    {
     "data": {
      "text/plain": [
       "TtestResult(statistic=np.float64(9.70596986565785), pvalue=np.float64(5.370404098342324e-13), df=np.int64(49))"
      ]
     },
     "execution_count": 19,
     "metadata": {},
     "output_type": "execute_result"
    }
   ],
   "source": [
    "st.ttest_rel(before, after)"
   ]
  },
  {
   "cell_type": "markdown",
   "id": "56531102-8cc2-4e67-9a7f-6361de15ba9a",
   "metadata": {},
   "source": [
    "[해석]  \n",
    "\n",
    "- p-value <= 0.05 : 귀무가설을 기각함.\n",
    "    - 두 집단 간의 평균 차이가 통계적으로 유의하다고 할 수 있음.\n",
    "    - 확실하게 다이어트 효과가 있음을 확인\n",
    "- h0 : d = 0, h1 : d != 0\n",
    "- 통계량이 양수 이기 때문에 양의 효과 있다는 것을 알 수 있음"
   ]
  },
  {
   "cell_type": "code",
   "execution_count": null,
   "id": "39c5d368-fd09-4f96-b712-e1d2173eb5d9",
   "metadata": {},
   "outputs": [],
   "source": []
  }
 ],
 "metadata": {
  "kernelspec": {
   "display_name": "eda_env",
   "language": "python",
   "name": "eda_env"
  },
  "language_info": {
   "codemirror_mode": {
    "name": "ipython",
    "version": 3
   },
   "file_extension": ".py",
   "mimetype": "text/x-python",
   "name": "python",
   "nbconvert_exporter": "python",
   "pygments_lexer": "ipython3",
   "version": "3.10.18"
  }
 },
 "nbformat": 4,
 "nbformat_minor": 5
}
