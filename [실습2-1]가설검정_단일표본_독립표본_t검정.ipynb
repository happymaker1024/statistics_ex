{
 "cells": [
  {
   "cell_type": "markdown",
   "id": "4d554518-ca6c-4cfa-bfbe-a71e9b51bafc",
   "metadata": {},
   "source": [
    "# 단일 표본 t검정"
   ]
  },
  {
   "cell_type": "markdown",
   "id": "27188e78-f492-443d-994b-6b9ecfe8e209",
   "metadata": {},
   "source": [
    "[문제]\n",
    "- 성인 여상 25명의 키 데이터\n",
    "- 평균, 표준편차 계산\n",
    "- ks-정규성 검정 실행\n",
    "- 임의의 어떤 값 163은 평균 값에 근사할까?"
   ]
  },
  {
   "cell_type": "code",
   "execution_count": 1,
   "id": "e13fda54-9488-4fd9-8aee-f5207323d694",
   "metadata": {},
   "outputs": [
    {
     "name": "stdout",
     "output_type": "stream",
     "text": [
      "[150.27, 142.94, 160.99, 157.48, 153.46, 137.5, 154.94, 159.51, 171.87, 143.69, 153.65, 160.25, 153.07, 154.42, 141.21, 154.17, 162.56, 164.44, 172.36, 141.51, 169.4, 167.97, 170.26, 157.8, 167.61]\n",
      "25\n"
     ]
    }
   ],
   "source": [
    "# data 로딩\n",
    "with open(\"./datas2/성인여성_키_데이터.txt\", \"r\") as  f:\n",
    "    data = f.read().split(\"\\n\")\n",
    "    data = map(float, data) # 리스트 요소가 문자열 -> float\n",
    "    data = list(data)\n",
    "    print(data)  # map 함수의 결과를 list로 형변환 -> 출력\n",
    "    print(len(data))"
   ]
  },
  {
   "cell_type": "markdown",
   "id": "b73a9db2-de73-471b-ba32-ef9bdd00f733",
   "metadata": {},
   "source": [
    "## 가설 설정\n",
    "- H0 : 표본 데이터의 평균은 163과 같다.\n",
    "- H1 : 표본 데이터의 평균은 163과 다르다."
   ]
  },
  {
   "cell_type": "code",
   "execution_count": 2,
   "id": "710e23b6-a308-4f87-9d80-85c0a85af309",
   "metadata": {},
   "outputs": [
    {
     "data": {
      "text/plain": [
       "(np.float64(156.9332), np.float64(9.974187774450611))"
      ]
     },
     "execution_count": 2,
     "metadata": {},
     "output_type": "execute_result"
    }
   ],
   "source": [
    "# 데이터의 평균과 표준편차 구하기\n",
    "\n",
    "import numpy as np\n",
    "# 평균\n",
    "mean_value = np.mean(data)\n",
    "# 표준편차\n",
    "std_dev = np.std(data, ddof=0) # 모집단의 표준 편차\n",
    "mean_value, std_dev"
   ]
  },
  {
   "cell_type": "markdown",
   "id": "afa8b0d2-383b-4bb8-86d3-4cc1f53b2338",
   "metadata": {},
   "source": [
    "## 정규성 검정(ks-test)"
   ]
  },
  {
   "cell_type": "code",
   "execution_count": 3,
   "id": "e719b2de-77d2-4980-9d11-711056581655",
   "metadata": {},
   "outputs": [],
   "source": [
    "from scipy.stats import *  # stats 모듈의 모든 내용을 로딩\n",
    "# from scipy import stats\n",
    "import numpy as np"
   ]
  },
  {
   "cell_type": "code",
   "execution_count": 4,
   "id": "b83b5ca5-282f-46b2-b513-ee7ffa429714",
   "metadata": {},
   "outputs": [
    {
     "data": {
      "text/plain": [
       "(np.float64(0.10925974986314058), np.float64(0.8950958424230889))"
      ]
     },
     "execution_count": 4,
     "metadata": {},
     "output_type": "execute_result"
    }
   ],
   "source": [
    "# 정규성 검정 함수\n",
    "ks_stats, p_value = kstest(data, 'norm', args=(mean_value, std_dev))\n",
    "ks_stats, p_value"
   ]
  },
  {
   "cell_type": "markdown",
   "id": "7e5edac2-4481-4819-96b5-639cd686e35e",
   "metadata": {},
   "source": [
    "# 단일표본 t검정 하기"
   ]
  },
  {
   "cell_type": "code",
   "execution_count": 6,
   "id": "28646599-7dff-4216-a457-551b774a4130",
   "metadata": {},
   "outputs": [
    {
     "data": {
      "text/plain": [
       "TtestResult(statistic=np.float64(-2.979804412662668), pvalue=np.float64(0.006510445335847954), df=np.int64(24))"
      ]
     },
     "execution_count": 6,
     "metadata": {},
     "output_type": "execute_result"
    }
   ],
   "source": [
    "ttest_1samp(data, 163)"
   ]
  },
  {
   "cell_type": "markdown",
   "id": "03c942a3-57cd-4b83-a876-c3b01e396616",
   "metadata": {},
   "source": [
    "# 독립 표본 t검정\n",
    "- 두 그룹 A, B의 차이를 검증 할 때 사용한는 검증 방법"
   ]
  },
  {
   "cell_type": "code",
   "execution_count": 7,
   "id": "bcb4155f-170a-40a6-928a-cda2391115cc",
   "metadata": {},
   "outputs": [],
   "source": [
    "# 문제 : A, B반의 점수 차이가 있는지 검증하기\n",
    "# [가설 설정]\n",
    "# H0 : A반과 B반의 평균은 같다.\n",
    "# H1 : A반과 B반의 평균은 다르다."
   ]
  },
  {
   "cell_type": "code",
   "execution_count": 10,
   "id": "4b16f84c-f4e2-4414-a4f0-4b613ebbaa48",
   "metadata": {},
   "outputs": [],
   "source": [
    "import pandas as pd\n",
    "import numpy as np"
   ]
  },
  {
   "cell_type": "code",
   "execution_count": 17,
   "id": "610b85c5-d9c5-455e-a5b1-431264b87149",
   "metadata": {},
   "outputs": [
    {
     "data": {
      "text/html": [
       "<div>\n",
       "<style scoped>\n",
       "    .dataframe tbody tr th:only-of-type {\n",
       "        vertical-align: middle;\n",
       "    }\n",
       "\n",
       "    .dataframe tbody tr th {\n",
       "        vertical-align: top;\n",
       "    }\n",
       "\n",
       "    .dataframe thead th {\n",
       "        text-align: right;\n",
       "    }\n",
       "</style>\n",
       "<table border=\"1\" class=\"dataframe\">\n",
       "  <thead>\n",
       "    <tr style=\"text-align: right;\">\n",
       "      <th></th>\n",
       "      <th>반</th>\n",
       "      <th>점수</th>\n",
       "    </tr>\n",
       "  </thead>\n",
       "  <tbody>\n",
       "    <tr>\n",
       "      <th>25</th>\n",
       "      <td>B</td>\n",
       "      <td>77</td>\n",
       "    </tr>\n",
       "    <tr>\n",
       "      <th>26</th>\n",
       "      <td>B</td>\n",
       "      <td>75</td>\n",
       "    </tr>\n",
       "    <tr>\n",
       "      <th>27</th>\n",
       "      <td>B</td>\n",
       "      <td>65</td>\n",
       "    </tr>\n",
       "    <tr>\n",
       "      <th>28</th>\n",
       "      <td>B</td>\n",
       "      <td>61</td>\n",
       "    </tr>\n",
       "    <tr>\n",
       "      <th>29</th>\n",
       "      <td>B</td>\n",
       "      <td>55</td>\n",
       "    </tr>\n",
       "  </tbody>\n",
       "</table>\n",
       "</div>"
      ],
      "text/plain": [
       "    반  점수\n",
       "25  B  77\n",
       "26  B  75\n",
       "27  B  65\n",
       "28  B  61\n",
       "29  B  55"
      ]
     },
     "execution_count": 17,
     "metadata": {},
     "output_type": "execute_result"
    }
   ],
   "source": [
    "df1 = pd.read_csv(\"./datas2/반별_점수_type1.csv\", encoding=\"euc-kr\")\n",
    "df1.tail()"
   ]
  },
  {
   "cell_type": "code",
   "execution_count": 19,
   "id": "7df7f41f-f172-4c7a-b202-3f6d45617617",
   "metadata": {},
   "outputs": [
    {
     "data": {
      "text/plain": [
       "반\n",
       "A    20\n",
       "B    10\n",
       "Name: count, dtype: int64"
      ]
     },
     "execution_count": 19,
     "metadata": {},
     "output_type": "execute_result"
    }
   ],
   "source": [
    "# 데이터프레임에서 반 컬럼의 유니크한 값의 갯수 확인\n",
    "df1['반'].value_counts()"
   ]
  },
  {
   "cell_type": "markdown",
   "id": "ac7e397a-e1fc-4887-bacc-7eba73cb0097",
   "metadata": {},
   "source": [
    "### A반, B반 데이터 분리하기"
   ]
  },
  {
   "cell_type": "code",
   "execution_count": 21,
   "id": "0695aa49-7884-42dc-b35b-47ded25f2dcd",
   "metadata": {},
   "outputs": [
    {
     "data": {
      "text/plain": [
       "20"
      ]
     },
     "execution_count": 21,
     "metadata": {},
     "output_type": "execute_result"
    }
   ],
   "source": [
    "# A반의 점수만 추출\n",
    "groupA = df1['점수'].loc[df1['반']=='A'].values\n",
    "len(groupA)"
   ]
  },
  {
   "cell_type": "code",
   "execution_count": 22,
   "id": "51b4c1eb-0736-479a-8ec6-04f8d94b3956",
   "metadata": {},
   "outputs": [
    {
     "data": {
      "text/plain": [
       "10"
      ]
     },
     "execution_count": 22,
     "metadata": {},
     "output_type": "execute_result"
    }
   ],
   "source": [
    "# B반의 점수만 추출\n",
    "groupB = df1['점수'].loc[df1['반']=='B'].values\n",
    "len(groupB)"
   ]
  },
  {
   "cell_type": "code",
   "execution_count": 25,
   "id": "ecf2bfae-ed15-4412-b14f-7f0221e8512a",
   "metadata": {},
   "outputs": [
    {
     "data": {
      "text/plain": [
       "(np.float64(70.55), np.float64(5.67983506061483))"
      ]
     },
     "execution_count": 25,
     "metadata": {},
     "output_type": "execute_result"
    }
   ],
   "source": [
    "meanA = np.mean(groupA)\n",
    "stdA = np.std(groupA, ddof=1)\n",
    "meanA, stdA"
   ]
  },
  {
   "cell_type": "code",
   "execution_count": 26,
   "id": "1b942f8f-abcd-4805-856a-0840b4600b8e",
   "metadata": {},
   "outputs": [
    {
     "data": {
      "text/plain": [
       "(np.float64(64.1), np.float64(8.279157230325104))"
      ]
     },
     "execution_count": 26,
     "metadata": {},
     "output_type": "execute_result"
    }
   ],
   "source": [
    "meanB = np.mean(groupB)\n",
    "stdB = np.std(groupB, ddof=1)\n",
    "meanB, stdB"
   ]
  },
  {
   "cell_type": "code",
   "execution_count": 28,
   "id": "c1821bc8-4c2a-4e79-9694-a7f3a7ff56fb",
   "metadata": {},
   "outputs": [
    {
     "name": "stdout",
     "output_type": "stream",
     "text": [
      "A반 평균: 70.55, 표준 편차: 5.68\n",
      "B반 평균: 64.10, 표준 편차: 8.28\n"
     ]
    }
   ],
   "source": [
    "# 결과 출력\n",
    "print(f\"A반 평균: {meanA:.2f}, 표준 편차: {stdA:.2f}\")\n",
    "print(f\"B반 평균: {meanB:.2f}, 표준 편차: {stdB:.2f}\")"
   ]
  },
  {
   "cell_type": "markdown",
   "id": "f29bf4ee-ebf1-4f95-8d1c-079f1583a191",
   "metadata": {},
   "source": [
    "## 정규성 검정\n",
    "- 방법1: kstest"
   ]
  },
  {
   "cell_type": "code",
   "execution_count": 30,
   "id": "54b96c31-0920-4ad9-aa84-bbcb1bbffff4",
   "metadata": {},
   "outputs": [
    {
     "name": "stdout",
     "output_type": "stream",
     "text": [
      "KstestResult(statistic=np.float64(0.13310674849448567), pvalue=np.float64(0.8254564220619713), statistic_location=np.int64(73), statistic_sign=np.int8(1))\n",
      "KstestResult(statistic=np.float64(0.15881009358601705), pvalue=np.float64(0.9295432555006241), statistic_location=np.int64(73), statistic_sign=np.int8(-1))\n"
     ]
    },
    {
     "name": "stderr",
     "output_type": "stream",
     "text": [
      "C:\\Users\\Public\\Documents\\ESTsoft\\CreatorTemp\\ipykernel_1840\\1650324172.py:2: DeprecationWarning: Please import `kstest` from the `scipy.stats` namespace; the `scipy.stats.stats` namespace is deprecated and will be removed in SciPy 2.0.0.\n",
      "  print(stats.kstest(groupA, 'norm', args=(np.mean(groupA), np.std(groupA, ddof=1))))\n",
      "C:\\Users\\Public\\Documents\\ESTsoft\\CreatorTemp\\ipykernel_1840\\1650324172.py:3: DeprecationWarning: Please import `kstest` from the `scipy.stats` namespace; the `scipy.stats.stats` namespace is deprecated and will be removed in SciPy 2.0.0.\n",
      "  print(stats.kstest(groupB, 'norm', args=(np.mean(groupB), np.std(groupB, ddof=1))))\n"
     ]
    }
   ],
   "source": [
    "# groupA와 groupB의 평균과 표준편차를 사용하여 정규성 검정 수행\n",
    "print(stats.kstest(groupA, 'norm', args=(np.mean(groupA), np.std(groupA, ddof=1))))\n",
    "print(stats.kstest(groupB, 'norm', args=(np.mean(groupB), np.std(groupB, ddof=1))))"
   ]
  },
  {
   "cell_type": "markdown",
   "id": "cc5e8f56-1097-4d01-ab17-d15d210d01dd",
   "metadata": {},
   "source": [
    "[해석]\n",
    "- p-value > 0.05 : 모두 정규 분포를 따른다고 판단\n",
    "- 독립표본 t검정 할 수 있음."
   ]
  },
  {
   "cell_type": "markdown",
   "id": "d3586b11-6039-47b0-af73-065d99911aab",
   "metadata": {},
   "source": [
    "## 등분산 검정\n",
    "- 그룹A와 그룹B가 같은 분산 인지 확인하기 위해 levene() 검정 사용"
   ]
  },
  {
   "cell_type": "code",
   "execution_count": 31,
   "id": "b63a1f58-e829-44f1-a25c-e449549141c3",
   "metadata": {},
   "outputs": [
    {
     "data": {
      "text/plain": [
       "LeveneResult(statistic=np.float64(2.033067087400979), pvalue=np.float64(0.16496408622210104))"
      ]
     },
     "execution_count": 31,
     "metadata": {},
     "output_type": "execute_result"
    }
   ],
   "source": [
    "levene(groupA, groupB)"
   ]
  },
  {
   "cell_type": "markdown",
   "id": "8eefd929-5647-476f-affa-0104aa7b1d7f",
   "metadata": {},
   "source": [
    "[해석]\n",
    "- pvalue > 0.05 : 두 그룹의 분산이 같다(등분산)을 띈다고 볼 수 있음\n",
    "- pvalue <= 0.05 : 두 그룹의 분산이 같지않다고 판단할 수 있음."
   ]
  },
  {
   "cell_type": "code",
   "execution_count": 33,
   "id": "f71d8cec-0380-4247-93bb-732f40068791",
   "metadata": {},
   "outputs": [
    {
     "data": {
      "text/plain": [
       "np.float64(32.26052631578948)"
      ]
     },
     "execution_count": 33,
     "metadata": {},
     "output_type": "execute_result"
    }
   ],
   "source": [
    "# groupA의 분산  \n",
    "np.var(groupA, ddof=1)"
   ]
  },
  {
   "cell_type": "code",
   "execution_count": 34,
   "id": "ad86cc95-d1ce-47d3-b3ef-872ae1bb3d68",
   "metadata": {},
   "outputs": [
    {
     "data": {
      "text/plain": [
       "np.float64(68.54444444444445)"
      ]
     },
     "execution_count": 34,
     "metadata": {},
     "output_type": "execute_result"
    }
   ],
   "source": [
    "# groupB의 분산\n",
    "np.var(groupB, ddof=1)"
   ]
  },
  {
   "cell_type": "code",
   "execution_count": 38,
   "id": "158800db-9c17-4e46-88ab-fc1f79b9a5b2",
   "metadata": {},
   "outputs": [
    {
     "data": {
      "text/plain": [
       "'\\n분산 값은 다르지만 등분산이다 의 의미\\n\\n실제 계산된 분산값은 32 vs 68로 꽤 달라 보이지만,\\n통계적으로 보면 표본의 크기와 데이터 분포를 고려했을 때\\n이 정도 차이는 우연히 발생할 수 있는 수준이라고 판단함\\n\\n즉, \\'분산이 정확히 같다\\'는 뜻이 아니라,\\n\"유의수준(보통 0.05) 기준에서 유의하게 다르다고 볼 근거가 없다\"는 뜻\\n'"
      ]
     },
     "execution_count": 38,
     "metadata": {},
     "output_type": "execute_result"
    }
   ],
   "source": [
    "\"\"\"\n",
    "분산 값은 다르지만 등분산이다 의 의미\n",
    "\n",
    "실제 계산된 분산값은 32 vs 68로 꽤 달라 보이지만,\n",
    "통계적으로 보면 표본의 크기와 데이터 분포를 고려했을 때\n",
    "이 정도 차이는 우연히 발생할 수 있는 수준이라고 판단함\n",
    "\n",
    "즉, '분산이 정확히 같다'는 뜻이 아니라,\n",
    "\"유의수준(보통 0.05) 기준에서 유의하게 다르다고 볼 근거가 없다\"는 뜻\n",
    "\"\"\""
   ]
  },
  {
   "cell_type": "markdown",
   "id": "46bd3f8c-02b3-40a0-8722-b2bf11b5d462",
   "metadata": {},
   "source": [
    "## 독립표본 t-검정 수행\n",
    "- Independent Two-Sample T-test"
   ]
  },
  {
   "cell_type": "code",
   "execution_count": 36,
   "id": "b0cac4bc-83ce-4a99-9553-4b87c1ab0068",
   "metadata": {},
   "outputs": [
    {
     "name": "stdout",
     "output_type": "stream",
     "text": [
      "TtestResult(statistic=np.float64(2.5128526794964134), pvalue=np.float64(0.01801095352893767), df=np.float64(28.0))\n"
     ]
    }
   ],
   "source": [
    "# A와 B간에는 차이가 존재함을 확인\n",
    "# equal_var = True(등분산 만족)\n",
    "print(ttest_ind(groupA, groupB, equal_var = True)) "
   ]
  },
  {
   "cell_type": "markdown",
   "id": "85e68913-add3-417d-b3c7-18359f1545e7",
   "metadata": {},
   "source": [
    "[해석]\n",
    "\n",
    "- pvalue < 0.05 : 그룹 A와 그룹 B의 평균 차이가 있다는 것을 알 수 있음\n",
    "- 통계값이 양수이므로 : A반 학생들의 성적이 더 좋다는 것을 알 수 있음"
   ]
  },
  {
   "cell_type": "code",
   "execution_count": null,
   "id": "c154e12d-7c57-4184-9998-1900a7d6bfec",
   "metadata": {},
   "outputs": [],
   "source": []
  }
 ],
 "metadata": {
  "kernelspec": {
   "display_name": "eda_env",
   "language": "python",
   "name": "eda_env"
  },
  "language_info": {
   "codemirror_mode": {
    "name": "ipython",
    "version": 3
   },
   "file_extension": ".py",
   "mimetype": "text/x-python",
   "name": "python",
   "nbconvert_exporter": "python",
   "pygments_lexer": "ipython3",
   "version": "3.10.18"
  }
 },
 "nbformat": 4,
 "nbformat_minor": 5
}
