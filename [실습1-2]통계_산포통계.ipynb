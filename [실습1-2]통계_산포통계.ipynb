{
 "cells": [
  {
   "cell_type": "markdown",
   "id": "0bf4bcc0-3e91-4ae6-ba4a-4f4ebf8938a8",
   "metadata": {},
   "source": [
    "# 산포통계"
   ]
  },
  {
   "cell_type": "markdown",
   "id": "ab62f670-2360-4f20-8515-a178a459032f",
   "metadata": {},
   "source": [
    "## 분산, 표준편차 구하기"
   ]
  },
  {
   "cell_type": "code",
   "execution_count": 1,
   "id": "c19fafc5-f11a-41f5-a699-e9982625d80c",
   "metadata": {},
   "outputs": [],
   "source": [
    "import numpy as np\n",
    "from scipy import stats\n",
    "import pandas as pd"
   ]
  },
  {
   "cell_type": "code",
   "execution_count": 5,
   "id": "64b00740-429e-45ae-a78f-8a91dbf4c8f4",
   "metadata": {},
   "outputs": [
    {
     "name": "stdout",
     "output_type": "stream",
     "text": [
      "모집단의 분산 : 2.0\n",
      "표본의 분산 : 2.5\n"
     ]
    }
   ],
   "source": [
    "x = [1,2,3,4,5]\n",
    "# 분산 계산\n",
    "print(f\"모집단의 분산 : {np.var(x)}\")  # 모집단의 분산 , ddof = 0 <- 생략\n",
    "print(f\"표본의 분산 : {np.var(x, ddof=1)}\")  # 표본데이터의 분산을 계산할 때 분모(n-1)"
   ]
  },
  {
   "cell_type": "code",
   "execution_count": null,
   "id": "a4b9291b-a58a-4284-afd0-24d6791a6103",
   "metadata": {},
   "outputs": [],
   "source": [
    "# 분산 계산식\n",
    "sum(x_i - 평균)**2 / n  <- 모집단 데이터의 분산 계산식\n",
    "sum(x_i - 평균)**2 / (n-1)  <- 표본데이터의 분산 계산식"
   ]
  },
  {
   "cell_type": "markdown",
   "id": "7e0c1887-28fb-40fb-af61-0d5ba23b17c5",
   "metadata": {},
   "source": [
    "## 데이터 표준화 하기"
   ]
  },
  {
   "cell_type": "markdown",
   "id": "4b66bbfb-f91b-4cee-829d-14b6a6083d32",
   "metadata": {},
   "source": [
    "### 데이터 프레임 만들기"
   ]
  },
  {
   "cell_type": "code",
   "execution_count": 13,
   "id": "6513cb6a-24e3-4708-b20b-49ed96175ac4",
   "metadata": {},
   "outputs": [],
   "source": [
    "import pandas as pd"
   ]
  },
  {
   "cell_type": "code",
   "execution_count": 18,
   "id": "0532898a-09ca-49bd-b322-0b46c8fe0ac4",
   "metadata": {},
   "outputs": [],
   "source": [
    "X = pd.DataFrame(\n",
    "    {\n",
    "        \"X1\": [1,2,3,4,5],\n",
    "         \"X2\": [10, 20,30,40, 50]\n",
    "    }\n",
    "            )"
   ]
  },
  {
   "cell_type": "markdown",
   "id": "84722779-efc0-4a1f-9531-6f7fbbfe3e7d",
   "metadata": {},
   "source": [
    "### scikit learn 을 활용한 데이터 표준화허가"
   ]
  },
  {
   "cell_type": "code",
   "execution_count": 14,
   "id": "6fd84d2f-94f3-4631-9497-897545724b59",
   "metadata": {},
   "outputs": [
    {
     "name": "stdout",
     "output_type": "stream",
     "text": [
      "Collecting scikit-learn\n",
      "  Downloading scikit_learn-1.7.2-cp310-cp310-win_amd64.whl.metadata (11 kB)\n",
      "Requirement already satisfied: numpy>=1.22.0 in c:\\users\\admin\\miniconda3\\envs\\eda_env\\lib\\site-packages (from scikit-learn) (2.2.6)\n",
      "Requirement already satisfied: scipy>=1.8.0 in c:\\users\\admin\\miniconda3\\envs\\eda_env\\lib\\site-packages (from scikit-learn) (1.15.3)\n",
      "Collecting joblib>=1.2.0 (from scikit-learn)\n",
      "  Downloading joblib-1.5.2-py3-none-any.whl.metadata (5.6 kB)\n",
      "Collecting threadpoolctl>=3.1.0 (from scikit-learn)\n",
      "  Using cached threadpoolctl-3.6.0-py3-none-any.whl.metadata (13 kB)\n",
      "Downloading scikit_learn-1.7.2-cp310-cp310-win_amd64.whl (8.9 MB)\n",
      "   ---------------------------------------- 0.0/8.9 MB ? eta -:--:--\n",
      "   ------------------------ --------------- 5.5/8.9 MB 30.5 MB/s eta 0:00:01\n",
      "   ---------------------------------------- 8.9/8.9 MB 27.6 MB/s  0:00:00\n",
      "Downloading joblib-1.5.2-py3-none-any.whl (308 kB)\n",
      "Using cached threadpoolctl-3.6.0-py3-none-any.whl (18 kB)\n",
      "Installing collected packages: threadpoolctl, joblib, scikit-learn\n",
      "\n",
      "   ------------- -------------------------- 1/3 [joblib]\n",
      "   -------------------------- ------------- 2/3 [scikit-learn]\n",
      "   -------------------------- ------------- 2/3 [scikit-learn]\n",
      "   -------------------------- ------------- 2/3 [scikit-learn]\n",
      "   -------------------------- ------------- 2/3 [scikit-learn]\n",
      "   -------------------------- ------------- 2/3 [scikit-learn]\n",
      "   -------------------------- ------------- 2/3 [scikit-learn]\n",
      "   -------------------------- ------------- 2/3 [scikit-learn]\n",
      "   -------------------------- ------------- 2/3 [scikit-learn]\n",
      "   -------------------------- ------------- 2/3 [scikit-learn]\n",
      "   -------------------------- ------------- 2/3 [scikit-learn]\n",
      "   -------------------------- ------------- 2/3 [scikit-learn]\n",
      "   -------------------------- ------------- 2/3 [scikit-learn]\n",
      "   -------------------------- ------------- 2/3 [scikit-learn]\n",
      "   -------------------------- ------------- 2/3 [scikit-learn]\n",
      "   -------------------------- ------------- 2/3 [scikit-learn]\n",
      "   -------------------------- ------------- 2/3 [scikit-learn]\n",
      "   ---------------------------------------- 3/3 [scikit-learn]\n",
      "\n",
      "Successfully installed joblib-1.5.2 scikit-learn-1.7.2 threadpoolctl-3.6.0\n"
     ]
    }
   ],
   "source": [
    "!pip install scikit-learn"
   ]
  },
  {
   "cell_type": "code",
   "execution_count": 15,
   "id": "0c52879d-6f92-4db2-bf54-24707094eb34",
   "metadata": {},
   "outputs": [
    {
     "name": "stdout",
     "output_type": "stream",
     "text": [
      " C 드라이브의 볼륨에는 이름이 없습니다.\n",
      " 볼륨 일련 번호: 1C12-191A\n",
      "\n",
      " C:\\Users\\Admin\\gg_drive\\kpmg_7th_lab\\statistics_ex 디렉터리\n",
      "\n",
      "2025-10-16  오전 09:34    <DIR>          .\n",
      "2025-10-16  오전 09:34    <DIR>          ..\n",
      "2025-10-14  오후 04:12             4,895 .gitignore\n",
      "2025-10-15  오전 11:47    <DIR>          .ipynb_checkpoints\n",
      "2025-10-14  오후 04:12                39 README.md\n",
      "2025-10-15  오전 09:26             1,064 test.ipynb\n",
      "2025-10-15  오전 11:28             7,732 [실습1-1]통계_대표통계.ipynb\n",
      "2025-10-16  오전 09:34             7,824 [실습1-2]통계_산포통계.ipynb\n",
      "               5개 파일              21,554 바이트\n",
      "               3개 디렉터리  171,371,425,792 바이트 남음\n"
     ]
    }
   ],
   "source": [
    "!dir"
   ]
  },
  {
   "cell_type": "code",
   "execution_count": 17,
   "id": "61e829b7-e591-4f21-8488-bfdde9646ac8",
   "metadata": {},
   "outputs": [],
   "source": [
    "# MinMaxScaler 메모리에 로딩\n",
    "from sklearn.preprocessing import MinMaxScaler"
   ]
  },
  {
   "cell_type": "code",
   "execution_count": 19,
   "id": "9d385edf-5270-4905-9761-cb5ec88c32e8",
   "metadata": {},
   "outputs": [],
   "source": [
    "# MinMaxScaler 객체 생성\n",
    "scaler = MinMaxScaler()\n",
    "scaled = scaler.fit_transform(X)"
   ]
  },
  {
   "cell_type": "code",
   "execution_count": 20,
   "id": "68e6df59-cea9-43b6-b5e8-3871b1ffb6f6",
   "metadata": {},
   "outputs": [
    {
     "data": {
      "text/plain": [
       "array([[0.  , 0.  ],\n",
       "       [0.25, 0.25],\n",
       "       [0.5 , 0.5 ],\n",
       "       [0.75, 0.75],\n",
       "       [1.  , 1.  ]])"
      ]
     },
     "execution_count": 20,
     "metadata": {},
     "output_type": "execute_result"
    }
   ],
   "source": [
    "scaled"
   ]
  },
  {
   "cell_type": "code",
   "execution_count": null,
   "id": "0d6955ed-b267-4b65-9825-d0b52fbc2356",
   "metadata": {},
   "outputs": [],
   "source": [
    "# docstrin 불러오기 : shift + tab\n",
    "# 자동완성 : tab"
   ]
  },
  {
   "cell_type": "code",
   "execution_count": 21,
   "id": "40db2228-8088-4d51-b8ec-26da2c28d7a5",
   "metadata": {},
   "outputs": [
    {
     "data": {
      "text/html": [
       "<div>\n",
       "<style scoped>\n",
       "    .dataframe tbody tr th:only-of-type {\n",
       "        vertical-align: middle;\n",
       "    }\n",
       "\n",
       "    .dataframe tbody tr th {\n",
       "        vertical-align: top;\n",
       "    }\n",
       "\n",
       "    .dataframe thead th {\n",
       "        text-align: right;\n",
       "    }\n",
       "</style>\n",
       "<table border=\"1\" class=\"dataframe\">\n",
       "  <thead>\n",
       "    <tr style=\"text-align: right;\">\n",
       "      <th></th>\n",
       "      <th>X1</th>\n",
       "      <th>X2</th>\n",
       "    </tr>\n",
       "  </thead>\n",
       "  <tbody>\n",
       "    <tr>\n",
       "      <th>0</th>\n",
       "      <td>0.00</td>\n",
       "      <td>0.00</td>\n",
       "    </tr>\n",
       "    <tr>\n",
       "      <th>1</th>\n",
       "      <td>0.25</td>\n",
       "      <td>0.25</td>\n",
       "    </tr>\n",
       "    <tr>\n",
       "      <th>2</th>\n",
       "      <td>0.50</td>\n",
       "      <td>0.50</td>\n",
       "    </tr>\n",
       "    <tr>\n",
       "      <th>3</th>\n",
       "      <td>0.75</td>\n",
       "      <td>0.75</td>\n",
       "    </tr>\n",
       "    <tr>\n",
       "      <th>4</th>\n",
       "      <td>1.00</td>\n",
       "      <td>1.00</td>\n",
       "    </tr>\n",
       "  </tbody>\n",
       "</table>\n",
       "</div>"
      ],
      "text/plain": [
       "     X1    X2\n",
       "0  0.00  0.00\n",
       "1  0.25  0.25\n",
       "2  0.50  0.50\n",
       "3  0.75  0.75\n",
       "4  1.00  1.00"
      ]
     },
     "execution_count": 21,
     "metadata": {},
     "output_type": "execute_result"
    }
   ],
   "source": [
    "pd.DataFrame(scaled, columns=['X1', 'X2'])"
   ]
  },
  {
   "cell_type": "markdown",
   "id": "fd52a580-830a-40a8-be32-b26219b18f61",
   "metadata": {},
   "source": [
    "## StandardScaler로 표준화 하기"
   ]
  },
  {
   "cell_type": "code",
   "execution_count": null,
   "id": "8853774e-fa97-4309-807c-f32594a98923",
   "metadata": {},
   "outputs": [],
   "source": []
  },
  {
   "cell_type": "markdown",
   "id": "c3f545de-9ca3-451c-b61f-e15cbf4ff6a7",
   "metadata": {},
   "source": [
    "## 범위와 사분위 범위 계산하기"
   ]
  },
  {
   "cell_type": "code",
   "execution_count": 22,
   "id": "01a8344f-1fd2-4c1e-ac6d-155396053fcc",
   "metadata": {},
   "outputs": [],
   "source": [
    "import numpy as np"
   ]
  },
  {
   "cell_type": "code",
   "execution_count": 23,
   "id": "41d6795a-aa4a-4b77-95b2-349a7cd42858",
   "metadata": {},
   "outputs": [],
   "source": [
    "x = np.random.normal(100, 20, size = 1000)"
   ]
  },
  {
   "cell_type": "code",
   "execution_count": 24,
   "id": "57b82ed4-0848-4b39-bb6f-f7778e614966",
   "metadata": {},
   "outputs": [],
   "source": [
    "# x (소문자) : 컬럼이 1개 일경우\n",
    "# X (대문자) : 컬럼이 2개이상일 경우"
   ]
  },
  {
   "cell_type": "markdown",
   "id": "3a05732a-4685-404d-86ae-bc01a265af42",
   "metadata": {},
   "source": [
    "## 범위 계산"
   ]
  },
  {
   "cell_type": "markdown",
   "id": "6035e0c8-eb0d-41f5-b6ff-fb5116b3a2e5",
   "metadata": {},
   "source": [
    "- m : 문자 셀로 변환\n",
    "- y : 코드셀로 변환"
   ]
  },
  {
   "cell_type": "code",
   "execution_count": 26,
   "id": "acd8f6c8-1d14-479e-a4c8-c7cb622f4c16",
   "metadata": {},
   "outputs": [
    {
     "name": "stdout",
     "output_type": "stream",
     "text": [
      "127.86652069358324\n",
      "127.86652069358324\n"
     ]
    }
   ],
   "source": [
    "print(np.ptp(x))\n",
    "print(np.max(x) - np.min(x))"
   ]
  },
  {
   "cell_type": "code",
   "execution_count": 27,
   "id": "3bc6e5bc-6981-411c-86e3-13e9b2933ec4",
   "metadata": {},
   "outputs": [
    {
     "name": "stdout",
     "output_type": "stream",
     "text": [
      "26.718478213850318\n"
     ]
    }
   ],
   "source": [
    "print(np.quantile(x, 0.75) - np.quantile(x, 0.25))"
   ]
  },
  {
   "cell_type": "code",
   "execution_count": 29,
   "id": "aa6d93a0-d668-41ae-a2f5-1956059ac58a",
   "metadata": {},
   "outputs": [
    {
     "name": "stdout",
     "output_type": "stream",
     "text": [
      "26.718478213850318\n"
     ]
    }
   ],
   "source": [
    "# import scipy.stats as st\n",
    "# print(st.iqr(x))\n",
    "\n",
    "from scipy import stats as st\n",
    "print(st.iqr(x))"
   ]
  },
  {
   "cell_type": "code",
   "execution_count": null,
   "id": "f6c34f77-d3c1-458b-8d54-69e5ac689c39",
   "metadata": {},
   "outputs": [],
   "source": []
  }
 ],
 "metadata": {
  "kernelspec": {
   "display_name": "eda_env",
   "language": "python",
   "name": "eda_env"
  },
  "language_info": {
   "codemirror_mode": {
    "name": "ipython",
    "version": 3
   },
   "file_extension": ".py",
   "mimetype": "text/x-python",
   "name": "python",
   "nbconvert_exporter": "python",
   "pygments_lexer": "ipython3",
   "version": "3.10.18"
  }
 },
 "nbformat": 4,
 "nbformat_minor": 5
}
